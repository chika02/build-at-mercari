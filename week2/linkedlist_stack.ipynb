{
  "nbformat": 4,
  "nbformat_minor": 0,
  "metadata": {
    "colab": {
      "name": "linkedlist.ipynb",
      "provenance": []
    },
    "kernelspec": {
      "name": "python3",
      "display_name": "Python 3"
    }
  },
  "cells": [
    {
      "cell_type": "markdown",
      "metadata": {
        "id": "d1KZOoN97GHJ",
        "colab_type": "text"
      },
      "source": [
        "###linked list implementation"
      ]
    },
    {
      "cell_type": "code",
      "metadata": {
        "id": "jrKO05nqATb5",
        "colab_type": "code",
        "colab": {}
      },
      "source": [
        "import sys\n",
        "\n",
        "class Node:\n",
        "  def __init__(self, val: int):\n",
        "    self.value = val\n",
        "    self.next = None\n",
        "\n",
        "class LinkedList:\n",
        "  def __init__(self):\n",
        "    self.top = Node(0)               #dummy top node\n",
        "\n",
        "  def show(self):                     #print the linked list\n",
        "    node = self.top\n",
        "    while node.next != None:\n",
        "      node = node.next\n",
        "      print(node.value, end=\" \")\n",
        "    print(\"\\n\")\n",
        "\n",
        "  def add(self, index: int, val: int):    #insert val into index of list\n",
        "    if index < 0:\n",
        "      print(\"index out of range\\n\")\n",
        "      return\n",
        "    node = self.top\n",
        "    count = -1\n",
        "    while count < index-1:            #forward node until it reaches the node before index\n",
        "      if node.next == None:\n",
        "        print(\"index out of range\\n\")\n",
        "        return\n",
        "      node = node.next\n",
        "      count += 1\n",
        "    if node.next == None:\n",
        "      new = Node(val)\n",
        "      node.next = new\n",
        "    else:\n",
        "      new = Node(val)\n",
        "      new.next = node.next\n",
        "      node.next = new\n",
        "\n",
        "  def remove(self, index: int):        #remove node at the index\n",
        "    if index < 0 or self.top.next==None:\n",
        "      print(\"index out of range\\n\")\n",
        "      return\n",
        "    node = self.top\n",
        "    count = -1\n",
        "    while count < index-1:           #forward node until it reaches the node before index\n",
        "      if node.next.next == None:     #note that conditions differ from add func\n",
        "        print(\"index out of range\\n\")\n",
        "        return\n",
        "      node = node.next\n",
        "      count += 1\n",
        "    if node.next.next == None:\n",
        "      del node.next\n",
        "      node.next = None\n",
        "    else:\n",
        "      rmv = node.next\n",
        "      node.next = node.next.next\n",
        "      del rmv\n",
        "\n",
        "  def getvalue(self, index: int)->int:      #get value of the index\n",
        "    if index < 0:\n",
        "      print(\"index out of range\\n\")\n",
        "      return None\n",
        "    node = self.top\n",
        "    count = -1\n",
        "    while count < index:             #forward node until it reaches index\n",
        "      if node == None:\n",
        "        print(\"index out of range\\n\")\n",
        "        return None\n",
        "      node = node.next\n",
        "      count += 1\n",
        "    return node.value\n",
        "\n",
        "  def reverse(self):                    #reverse the linked list\n",
        "    if self.top.next == None or self.top.next.next == None:   # if length is 0 or 1\n",
        "      return\n",
        "    topnode = self.top               #'topnode' is the dummy top node and 'topnode.next' is index 0\n",
        "    node = self.top.next.next         #'node' is index 1\n",
        "    self.top.next.next = None         #remove next pointer from index 0 (which is going to be the last)\n",
        "    while node != None:              #put 'node' between the 'topnode' and the 'topnode.next' node\n",
        "      nextnode = node.next          #and update 'node' to 'node.next'\n",
        "      node.next = topnode.next\n",
        "      topnode.next = node\n",
        "      node = nextnode\n"
      ],
      "execution_count": 0,
      "outputs": []
    },
    {
      "cell_type": "code",
      "metadata": {
        "id": "AwysxXnSfpzg",
        "colab_type": "code",
        "colab": {
          "base_uri": "https://localhost:8080/",
          "height": 289
        },
        "outputId": "8a5f7ae3-114c-4621-a443-67628787cd29"
      },
      "source": [
        "#test cases for add function\n",
        "l = LinkedList()\n",
        "l.show()\n",
        "l.add(0,4)\n",
        "l.show()\n",
        "l.add(0,5)\n",
        "l.show()\n",
        "l.add(1,2)\n",
        "l.show()\n",
        "l.add(3,0)\n",
        "l.show()\n",
        "l.add(5,1)\n",
        "l.show()\n",
        "l.add(-1,1)"
      ],
      "execution_count": 38,
      "outputs": [
        {
          "output_type": "stream",
          "text": [
            "\n",
            "\n",
            "4 \n",
            "\n",
            "5 4 \n",
            "\n",
            "5 2 4 \n",
            "\n",
            "5 2 4 0 \n",
            "\n",
            "index out of range\n",
            "\n",
            "5 2 4 0 \n",
            "\n",
            "index out of range\n",
            "\n"
          ],
          "name": "stdout"
        }
      ]
    },
    {
      "cell_type": "code",
      "metadata": {
        "id": "IaQ0EeU9zhP-",
        "colab_type": "code",
        "colab": {
          "base_uri": "https://localhost:8080/",
          "height": 323
        },
        "outputId": "36c1be95-dd1e-474c-9df1-89e113e8c9ad"
      },
      "source": [
        "#test cases for remove function\n",
        "l.remove(1)\n",
        "l.show()\n",
        "l.remove(2)\n",
        "l.show()\n",
        "l.remove(2)\n",
        "l.show()\n",
        "l.remove(0)\n",
        "l.show()\n",
        "l.remove(-1)\n",
        "l.show()\n",
        "l.remove(0)\n",
        "l.show()\n",
        "l.remove(0)"
      ],
      "execution_count": 39,
      "outputs": [
        {
          "output_type": "stream",
          "text": [
            "5 4 0 \n",
            "\n",
            "5 4 \n",
            "\n",
            "index out of range\n",
            "\n",
            "5 4 \n",
            "\n",
            "4 \n",
            "\n",
            "index out of range\n",
            "\n",
            "4 \n",
            "\n",
            "\n",
            "\n",
            "index out of range\n",
            "\n"
          ],
          "name": "stdout"
        }
      ]
    },
    {
      "cell_type": "code",
      "metadata": {
        "id": "TChYvlko0pr8",
        "colab_type": "code",
        "colab": {
          "base_uri": "https://localhost:8080/",
          "height": 408
        },
        "outputId": "e90af5ba-df42-447d-cf1f-26f4d639284c"
      },
      "source": [
        "#test cases for getvalue function\n",
        "l2 = LinkedList()\n",
        "l2.add(0,3)\n",
        "l2.add(0,6)\n",
        "l2.add(0,7)\n",
        "l2.show()\n",
        "\n",
        "print(l2.getvalue(0))\n",
        "print(l2.getvalue(1))\n",
        "print(l2.getvalue(2))\n",
        "print(l2.getvalue(-1))\n",
        "print(l2.getvalue(5))\n",
        "\n",
        "#test cases for reverse function\n",
        "l2.show()\n",
        "l2.reverse()\n",
        "l2.show()\n",
        "l2.remove(1)\n",
        "l2.show()\n",
        "l2.reverse()\n",
        "l2.show()\n",
        "l2.remove(0)\n",
        "l2.show()\n",
        "l2.reverse()\n",
        "l2.show()"
      ],
      "execution_count": 40,
      "outputs": [
        {
          "output_type": "stream",
          "text": [
            "7 6 3 \n",
            "\n",
            "7\n",
            "6\n",
            "3\n",
            "index out of range\n",
            "\n",
            "None\n",
            "index out of range\n",
            "\n",
            "None\n",
            "7 6 3 \n",
            "\n",
            "3 6 7 \n",
            "\n",
            "3 7 \n",
            "\n",
            "7 3 \n",
            "\n",
            "3 \n",
            "\n",
            "3 \n",
            "\n"
          ],
          "name": "stdout"
        }
      ]
    },
    {
      "cell_type": "markdown",
      "metadata": {
        "id": "toa9LgPQ7Oym",
        "colab_type": "text"
      },
      "source": [
        "### stack implementation"
      ]
    },
    {
      "cell_type": "code",
      "metadata": {
        "id": "UVtIXq1s7TrG",
        "colab_type": "code",
        "colab": {}
      },
      "source": [
        "class Stack (LinkedList):\n",
        "  \n",
        "  def push(self, val: int):\n",
        "    self.add(0, val)\n",
        "  \n",
        "  def pop(self):\n",
        "    self.remove(0)\n"
      ],
      "execution_count": 0,
      "outputs": []
    },
    {
      "cell_type": "code",
      "metadata": {
        "id": "2XH25WCU-XBh",
        "colab_type": "code",
        "colab": {
          "base_uri": "https://localhost:8080/",
          "height": 255
        },
        "outputId": "5bfb0546-6a4a-4f9f-8e10-7459eba34dad"
      },
      "source": [
        "#test cases for stack\n",
        "s = Stack()\n",
        "s.show()\n",
        "s.push(1)\n",
        "s.show()\n",
        "s.push(5)\n",
        "s.show()\n",
        "s.push(2)\n",
        "s.show()\n",
        "s.pop()\n",
        "s.show()\n",
        "s.pop()\n",
        "s.show()\n",
        "s.pop()\n",
        "s.show()"
      ],
      "execution_count": 42,
      "outputs": [
        {
          "output_type": "stream",
          "text": [
            "\n",
            "\n",
            "1 \n",
            "\n",
            "5 1 \n",
            "\n",
            "2 5 1 \n",
            "\n",
            "5 1 \n",
            "\n",
            "1 \n",
            "\n",
            "\n",
            "\n"
          ],
          "name": "stdout"
        }
      ]
    }
  ]
}